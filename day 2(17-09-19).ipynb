{
 "cells": [
  {
   "cell_type": "markdown",
   "metadata": {},
   "source": [
    "### Control statements\n",
    "- conditional statements or selection statements\n",
    "    - if-else\n",
    "- iterational statement or loop statements\n",
    "    - while\n",
    "    - for\n",
    "    "
   ]
  },
  {
   "cell_type": "code",
   "execution_count": 3,
   "metadata": {},
   "outputs": [
    {
     "name": "stdout",
     "output_type": "stream",
     "text": [
      "1996\n",
      "leap year\n"
     ]
    }
   ],
   "source": [
    "# check the input is leap year or not\n",
    "year=int(input(''))\n",
    "if year % 400 == 0 or (year % 100 != 0 and year % 4 ==0):\n",
    "    print('leap year')\n",
    "else:\n",
    "    print('Not leap year')\n"
   ]
  },
  {
   "cell_type": "markdown",
   "metadata": {},
   "source": [
    "### While loop"
   ]
  },
  {
   "cell_type": "code",
   "execution_count": 6,
   "metadata": {},
   "outputs": [
    {
     "name": "stdout",
     "output_type": "stream",
     "text": [
      "enter  a number:10\n",
      "1 2 3 4 5 6 7 8 9 10 "
     ]
    }
   ],
   "source": [
    "#Print numbers from 1 to n\n",
    "#input:10\n",
    "#output:1 2 3 .....10\n",
    "n=int(input('enter  a number:'))\n",
    "i=1\n",
    "while i<=n:\n",
    "    print(i,end=\" \")\n",
    "    i=i+1"
   ]
  },
  {
   "cell_type": "code",
   "execution_count": 1,
   "metadata": {},
   "outputs": [
    {
     "name": "stdout",
     "output_type": "stream",
     "text": [
      "enter a number15\n",
      "56\n"
     ]
    }
   ],
   "source": [
    "#read a number as input \n",
    "#output as only even numbers from 1 to 10\n",
    "#input:10\n",
    "#output:30[2+4+6+8+10]\n",
    "\n",
    "n=int(input('enter a number'))\n",
    "i = 1\n",
    "s = 0\n",
    "while i <= n:\n",
    "    if i % 2 == 0:\n",
    "        s = s + i\n",
    "    i = i + 1\n",
    "print(s)"
   ]
  },
  {
   "cell_type": "code",
   "execution_count": 4,
   "metadata": {},
   "outputs": [
    {
     "name": "stdout",
     "output_type": "stream",
     "text": [
      "123\n",
      "321"
     ]
    }
   ],
   "source": [
    "#read a number as input\n",
    "#output has to be digits of the number\n",
    "\n",
    "#input: 123\n",
    "#output: 3 2 1\n",
    "\n",
    "n=int(input(''))\n",
    "while n!=0:\n",
    "    print(n%10,end='')\n",
    "    n=n // 10\n",
    "    "
   ]
  },
  {
   "cell_type": "code",
   "execution_count": 5,
   "metadata": {},
   "outputs": [],
   "source": [
    "### 123 % 10= 3  (remainder)\n",
    "### 123 / 10 = 12   (quotient)\n",
    "### 12% 10 = 2\n",
    "### 12//10=1  (cuts the precedence value and prints only the integer)\n",
    "### 1%10=1\n",
    "### 1//10=1\n"
   ]
  },
  {
   "cell_type": "markdown",
   "metadata": {},
   "source": [
    "### Functional Programming\n",
    "- Simple\n",
    "- Easy to understand\n",
    "- Better Reusability\n",
    "- Length program will be divided into sub programs\n"
   ]
  },
  {
   "cell_type": "markdown",
   "metadata": {},
   "source": [
    "# eg\n",
    "def  nameoftheFunction(<parameters>):\n",
    "    Statements\n",
    "    return\n",
    "\n",
    "# def is a keyword used to define a function\n",
    "# <parameters> --- optional\n",
    "# no return types like int or void are required"
   ]
  },
  {
   "cell_type": "code",
   "execution_count": 9,
   "metadata": {},
   "outputs": [
    {
     "data": {
      "text/plain": [
       "6"
      ]
     },
     "execution_count": 9,
     "metadata": {},
     "output_type": "execute_result"
    }
   ],
   "source": [
    "#read a number\n",
    "# print the even digit sum of the number\n",
    "# input:1234\n",
    "#output:6(2+4)\n",
    "\n",
    "def evenDigitSum(n):\n",
    "    s=0\n",
    "    while n!= 0:\n",
    "        r = n%10\n",
    "        if r%2==0:\n",
    "            s=s+r\n",
    "        n=n //10\n",
    "    return s\n",
    "evenDigitSum(1234)"
   ]
  },
  {
   "cell_type": "code",
   "execution_count": 15,
   "metadata": {},
   "outputs": [
    {
     "data": {
      "text/plain": [
       "9"
      ]
     },
     "execution_count": 15,
     "metadata": {},
     "output_type": "execute_result"
    }
   ],
   "source": [
    "#input: 19535\n",
    "#output: 9(large digit of the given number)\n",
    "#functional program\n",
    "\n",
    "def largeDigit(n):\n",
    "    large=0\n",
    "    while(n!=0):\n",
    "        r=n%10\n",
    "        if large < r:\n",
    "            large =r\n",
    "        n= n //10\n",
    "    return large\n",
    "largeDigit(19535)"
   ]
  },
  {
   "cell_type": "code",
   "execution_count": 19,
   "metadata": {},
   "outputs": [
    {
     "name": "stdout",
     "output_type": "stream",
     "text": [
      "yes\n",
      "no\n"
     ]
    }
   ],
   "source": [
    "#read a number as input\n",
    "#output yes or no\n",
    "\n",
    "#input:145    (145==> 541***5!=120***4!=24***1!=1***120+24+1=145 ===> yes)\n",
    "#output:yes\n",
    "\n",
    "#input:123\n",
    "#output:no    (123===>321***3!=6***2!=2***1!=1***6+2+1!=123===>no)\n",
    "\n",
    "#individual digit factorial sum is same as input number\n",
    "def factorial(n):\n",
    "    fact=1\n",
    "    i=1\n",
    "    while i<=n:\n",
    "        fact=fact*i\n",
    "        i=i+1\n",
    "    return fact   #finding factorial of number\n",
    "\n",
    "def digitFact(n):\n",
    "    sum=0\n",
    "    buffer = n   #store the input value in buffer because after while loop n will be zero\n",
    "    while(n!=0):\n",
    "        r=n%10\n",
    "        sum=sum+factorial(r) \n",
    "        n=n //10\n",
    "    if buffer == sum:    #compare sum with buffer\n",
    "        return \"yes\"\n",
    "    else:\n",
    "        return \"no\"\n",
    "    return\n",
    "print(digitFact(145))  #yes\n",
    "print(digitFact(123)) #no       \n",
    "    \n"
   ]
  },
  {
   "cell_type": "code",
   "execution_count": 22,
   "metadata": {},
   "outputs": [
    {
     "name": "stdout",
     "output_type": "stream",
     "text": [
      "palindrome\n",
      "not a palindrome\n"
     ]
    }
   ],
   "source": [
    "#read a number as input\n",
    "#output as palindrome or not a palindrome\n",
    "#palindrome==>reverse of a number is same as input\n",
    "\n",
    "#input:121\n",
    "#output:palindrome\n",
    "\n",
    "#input:123\n",
    "#output:not a palindrome\n",
    "\n",
    "def isPalindrome(n):\n",
    "    rev = 0\n",
    "    buffer = n\n",
    "    while n!=0:\n",
    "        rev=rev*10+(n%10)\n",
    "        n=n//10\n",
    "    if buffer ==rev:\n",
    "        return \"palindrome\"\n",
    "    return \"not a palindrome\"\n",
    "print(isPalindrome(121)) #palindrome\n",
    "print(isPalindrome(123)) #not a palindrome"
   ]
  },
  {
   "cell_type": "markdown",
   "metadata": {},
   "source": [
    "### while loop is used when there is no fixed number of iterations\n",
    "### for loop is used when there are fixed number of iterations"
   ]
  },
  {
   "cell_type": "code",
   "execution_count": 24,
   "metadata": {},
   "outputs": [
    {
     "name": "stdout",
     "output_type": "stream",
     "text": [
      "11 12 13 14 15 16 17 18 19 20 21 22 23 24 25 "
     ]
    }
   ],
   "source": [
    "#function to print the numbers between 2 limits\n",
    "#input:11 25\n",
    "#output:11 12 13 .....25\n",
    "\n",
    "def printSeries(lb,ub):\n",
    "    for x in range(lb,ub+1):   #range function will not consider the upper bound so the second parameter will be ub+1\n",
    "        print(x,end=' ')\n",
    "    return\n",
    "printSeries(11,25)"
   ]
  },
  {
   "cell_type": "code",
   "execution_count": 29,
   "metadata": {},
   "outputs": [
    {
     "name": "stdout",
     "output_type": "stream",
     "text": [
      "500 502 504 506 508 510 512 514 516 518 520 None\n",
      "100 102 104 106 108 110 112 114 116 118 120 122 124 126 128 130 132 134 136 138 140 None\n"
     ]
    }
   ],
   "source": [
    "#function to print the alternate numbers\n",
    "#[500,520]---500,502,504,----520\n",
    "#[100,140]---100,102,104,----140\n",
    "\n",
    "def alternateNumbers(lb,ub):\n",
    "    for x in range(lb,ub+1,2):\n",
    "        print(x,end=\" \")\n",
    "    return\n",
    "print(alternateNumbers(500,520))\n",
    "print(alternateNumbers(100,140))"
   ]
  },
  {
   "cell_type": "markdown",
   "metadata": {},
   "source": [
    "### task"
   ]
  },
  {
   "cell_type": "code",
   "execution_count": 4,
   "metadata": {},
   "outputs": [
    {
     "name": "stdout",
     "output_type": "stream",
     "text": [
      "1 2 4 8 "
     ]
    }
   ],
   "source": [
    "#find the factors of a given number\n",
    "# 12--->1 2 3 4 6 12\n",
    "def factorList(n):\n",
    "    for i in range(1,n+1):\n",
    "        if n % i == 0:\n",
    "            print(i,end=\" \")\n",
    "    return\n",
    "factorList(8)"
   ]
  },
  {
   "cell_type": "code",
   "execution_count": 5,
   "metadata": {},
   "outputs": [
    {
     "data": {
      "text/plain": [
       "True"
      ]
     },
     "execution_count": 5,
     "metadata": {},
     "output_type": "execute_result"
    }
   ],
   "source": [
    "#given number is prime or not\n",
    "def isPrime(n):\n",
    "    flag = True\n",
    "    for i in range(2,n//2+1):\n",
    "        if n%i==0:\n",
    "            flag=False\n",
    "            return flag\n",
    "    return flag\n",
    "isPrime(7)"
   ]
  },
  {
   "cell_type": "code",
   "execution_count": null,
   "metadata": {},
   "outputs": [],
   "source": []
  }
 ],
 "metadata": {
  "kernelspec": {
   "display_name": "Python 3",
   "language": "python",
   "name": "python3"
  },
  "language_info": {
   "codemirror_mode": {
    "name": "ipython",
    "version": 3
   },
   "file_extension": ".py",
   "mimetype": "text/x-python",
   "name": "python",
   "nbconvert_exporter": "python",
   "pygments_lexer": "ipython3",
   "version": "3.7.3"
  }
 },
 "nbformat": 4,
 "nbformat_minor": 2
}
