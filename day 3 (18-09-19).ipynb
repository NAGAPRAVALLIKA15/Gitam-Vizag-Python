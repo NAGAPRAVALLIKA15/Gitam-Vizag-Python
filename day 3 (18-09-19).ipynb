{
 "cells": [
  {
   "cell_type": "markdown",
   "metadata": {},
   "source": [
    "### Programming in python with Strings\n",
    "- Strings\n",
    "- String slicing\n",
    "- Fundemantal programs and Examples with Strings"
   ]
  },
  {
   "cell_type": "code",
   "execution_count": 4,
   "metadata": {},
   "outputs": [
    {
     "name": "stdout",
     "output_type": "stream",
     "text": [
      "Python\n",
      "Programming\n",
      "a\n",
      "<class 'str'>\n",
      "<class 'str'>\n",
      "<class 'str'>\n"
     ]
    }
   ],
   "source": [
    "s1 ='Python'\n",
    "s2=\"Programming\"\n",
    "s3='a'\n",
    "print(s1)\n",
    "print(s2)\n",
    "print(s3)\n",
    "print(type(s1))\n",
    "print(type(s2))\n",
    "print(type(s3))"
   ]
  },
  {
   "cell_type": "markdown",
   "metadata": {},
   "source": [
    "### String slicing"
   ]
  },
  {
   "cell_type": "code",
   "execution_count": 16,
   "metadata": {},
   "outputs": [
    {
     "name": "stdout",
     "output_type": "stream",
     "text": [
      "P\n",
      "y\n",
      "6\n",
      "n\n",
      "n\n",
      "o\n"
     ]
    }
   ],
   "source": [
    "s=\"Python\"\n",
    "print(s[0]) #Accessing the first character in a string\n",
    "print(s[1]) #Accessing the second character ina string\n",
    "print(len(s)) #length of the string\n",
    "print(s[len(s)-1]) #Accessing the last character of the string\n",
    "print(s[-1]) #Another way to access the last character\n",
    "print(s[-2])"
   ]
  },
  {
   "cell_type": "code",
   "execution_count": 34,
   "metadata": {},
   "outputs": [
    {
     "name": "stdout",
     "output_type": "stream",
     "text": [
      "Py\n",
      "on\n",
      "hon\n",
      "tho\n",
      "ytho\n",
      "oP\n"
     ]
    }
   ],
   "source": [
    "print(s[0:2]) #Access first 2 characters\n",
    "print(s[-2:]) #Access the last 2 characters\n",
    "print(s[3:])  #Access the characters from 3rd till last\n",
    "print(s[2:5]) #Acess the characters from 2 to 5\n",
    "print(s[1:-1]) #Prints all except first and last characters "
   ]
  },
  {
   "cell_type": "code",
   "execution_count": 36,
   "metadata": {},
   "outputs": [
    {
     "data": {
      "text/plain": [
       "'nohtyP'"
      ]
     },
     "execution_count": 36,
     "metadata": {},
     "output_type": "execute_result"
    }
   ],
   "source": [
    "s[-1::-1] #reverse the string"
   ]
  },
  {
   "cell_type": "code",
   "execution_count": 37,
   "metadata": {},
   "outputs": [
    {
     "data": {
      "text/plain": [
       "'Pto'"
      ]
     },
     "execution_count": 37,
     "metadata": {},
     "output_type": "execute_result"
    }
   ],
   "source": [
    "#Access the alternate characters in a string\n",
    "#Python --- pto\n",
    "s[::2]\n"
   ]
  },
  {
   "cell_type": "code",
   "execution_count": 38,
   "metadata": {},
   "outputs": [
    {
     "data": {
      "text/plain": [
       "'nhy'"
      ]
     },
     "execution_count": 38,
     "metadata": {},
     "output_type": "execute_result"
    }
   ],
   "source": [
    "#Access the alternate characters from reverse direction\n",
    "#Python --- nhy\n",
    "s[::-2]"
   ]
  },
  {
   "cell_type": "code",
   "execution_count": 39,
   "metadata": {},
   "outputs": [
    {
     "data": {
      "text/plain": [
       "'Ph'"
      ]
     },
     "execution_count": 39,
     "metadata": {},
     "output_type": "execute_result"
    }
   ],
   "source": [
    "s[::3] #prints 1st character and 3rd character"
   ]
  },
  {
   "cell_type": "markdown",
   "metadata": {},
   "source": [
    "### Functions with string operations"
   ]
  },
  {
   "cell_type": "code",
   "execution_count": 42,
   "metadata": {},
   "outputs": [
    {
     "data": {
      "text/plain": [
       "'nohtyP'"
      ]
     },
     "execution_count": 42,
     "metadata": {},
     "output_type": "execute_result"
    }
   ],
   "source": [
    "def reverseStr(s):\n",
    "    return s[-1::-1]\n",
    "reverseStr('Python')"
   ]
  },
  {
   "cell_type": "code",
   "execution_count": 46,
   "metadata": {},
   "outputs": [
    {
     "name": "stdout",
     "output_type": "stream",
     "text": [
      "False\n",
      "True\n"
     ]
    }
   ],
   "source": [
    "#TO check the given string is palindrome or not\n",
    "def isPalindrome(s):\n",
    "    if s == s[-1::-1]:\n",
    "        return True\n",
    "    return False\n",
    "print(isPalindrome('Python'))\n",
    "print(isPalindrome('ganag'))"
   ]
  },
  {
   "cell_type": "code",
   "execution_count": 56,
   "metadata": {},
   "outputs": [
    {
     "name": "stdout",
     "output_type": "stream",
     "text": [
      "P T "
     ]
    }
   ],
   "source": [
    "#function to print the upper case characters \n",
    "#Example :PyThon --->P T\n",
    "\n",
    "#ASCII \n",
    "#A-Z === 65-90\n",
    "#a-z === 97-122\n",
    "#0-9 === 48-57\n",
    "#space === 32\n",
    "def printUpper(s):\n",
    "        for i in range(len(s)):\n",
    "            if ord(s[i])>=65 and ord(s[i])<=90:   #s[i] represents the class of the string\n",
    "                print(s[i],end=\" \")\n",
    "        return\n",
    "printUpper(\"PyThon\") # P T"
   ]
  },
  {
   "cell_type": "code",
   "execution_count": 55,
   "metadata": {},
   "outputs": [
    {
     "data": {
      "text/plain": [
       "97"
      ]
     },
     "execution_count": 55,
     "metadata": {},
     "output_type": "execute_result"
    }
   ],
   "source": [
    "ord('a') #ord() function gives the output as number which is equal to ASCII number"
   ]
  },
  {
   "cell_type": "code",
   "execution_count": 83,
   "metadata": {},
   "outputs": [
    {
     "data": {
      "text/plain": [
       "'samecount'"
      ]
     },
     "execution_count": 83,
     "metadata": {},
     "output_type": "execute_result"
    }
   ],
   "source": [
    "#Function to return the output as \"Same count\" or \"programming\"\n",
    "#Samecount ---Lower case and Upper case characters have same count\n",
    "#Programming --- Count of lower case and upper case is not same\n",
    "\n",
    "#Example #1 --- 3 P T O\n",
    "#            ----3 y h n\n",
    "#output :Samecount\n",
    "\n",
    "#Example #1 --- 2 P N\n",
    "#           --- 3 y t h o\n",
    "\n",
    " #output :Programing \n",
    "\n",
    "def charCount(s):\n",
    "    ucase = 0\n",
    "    lcase = 0\n",
    "    for i in range(len(s)):\n",
    "        if ord(s[i])>=65 and ord(s[i])<=90: \n",
    "            ucase=ucase+1  #ucase +=1\n",
    "        elif ord(s[i])>=97 and ord(s[i])<=122: \n",
    "            lcase=lcase+1   #lcase +=1\n",
    "    if ucase == lcase:\n",
    "        return\"samecount\"\n",
    "    return\"Programming\"\n",
    "charCount('PyThoN')\n"
   ]
  },
  {
   "cell_type": "code",
   "execution_count": 87,
   "metadata": {},
   "outputs": [
    {
     "name": "stdout",
     "output_type": "stream",
     "text": [
      "1 8 8 9 "
     ]
    }
   ],
   "source": [
    "#function to extract the digits from the string\n",
    "#Example #1:\n",
    "#input: Appli18cation89\n",
    "#output:1 8 8 9\n",
    "\n",
    "def extDigit(s):\n",
    "    for i in range(len(s)):\n",
    "        if ord(s[i])>=48 and ord(s[i])<=57:\n",
    "            print(s[i],end=' ')\n",
    "    return\n",
    "extDigit('Appli18cation89')\n",
    "            "
   ]
  },
  {
   "cell_type": "code",
   "execution_count": 115,
   "metadata": {},
   "outputs": [
    {
     "data": {
      "text/plain": [
       "26"
      ]
     },
     "execution_count": 115,
     "metadata": {},
     "output_type": "execute_result"
    }
   ],
   "source": [
    "#function to add the digits of the string\n",
    "#Example 1:\n",
    "#input: Appli18cation89\n",
    "#output: 26(1+8+8+9)\n",
    "\n",
    "def digitSum(s):\n",
    "    sum=0\n",
    "    for i in range(len(s)):\n",
    "        if ord(s[i])>=48 and ord(s[i])<=57:\n",
    "            sum=sum+int(s[i])\n",
    "    return sum\n",
    "digitSum('Appli18cation89')"
   ]
  },
  {
   "cell_type": "markdown",
   "metadata": {},
   "source": [
    "### above prog to get ascii sum\n",
    "### sum=sum+ord(s[i])"
   ]
  },
  {
   "cell_type": "code",
   "execution_count": 116,
   "metadata": {},
   "outputs": [
    {
     "data": {
      "text/plain": [
       "218"
      ]
     },
     "execution_count": 116,
     "metadata": {},
     "output_type": "execute_result"
    }
   ],
   "source": [
    "#function to add the ASCII values of the string\n",
    "#Example 1:\n",
    "#input: Appli18cation89\n",
    "#output: 218\n",
    "\n",
    "def digitSum(s):\n",
    "    sum=0\n",
    "    for i in range(len(s)):\n",
    "        if ord(s[i])>=48 and ord(s[i])<=57:\n",
    "            sum=sum+ord(s[i])\n",
    "    return sum\n",
    "digitSum('Appli18cation89')"
   ]
  },
  {
   "cell_type": "code",
   "execution_count": 120,
   "metadata": {},
   "outputs": [
    {
     "name": "stdout",
     "output_type": "stream",
     "text": [
      "M A D E "
     ]
    }
   ],
   "source": [
    "#function to print 2nd word in upper case\n",
    "#Example 1\n",
    "#input: Python made easy\n",
    "#output: MADE\n",
    "\n",
    "#example 2\n",
    "#input:Learn python strings\n",
    "#output: PYTHON\n",
    "\n",
    "def wordUpper(s):\n",
    "    countSpace=0\n",
    "    for i in range(len(s)):\n",
    "        if ord(s[i])== 32:\n",
    "            countSpace += 1\n",
    "        if countSpace == 1:\n",
    "            if ord(s[i])>=65 and ord(s[i])<=90:\n",
    "                print(s[i],end=' ')\n",
    "            elif ord(s[i])>=97 and ord(s[i])<=122:\n",
    "                print(chr(ord(s[i])-32),end=' ')\n",
    "        if countSpace == 2:\n",
    "            break\n",
    "    return\n",
    "wordUpper('Python made easy')"
   ]
  },
  {
   "cell_type": "markdown",
   "metadata": {},
   "source": [
    "### List\n",
    "- One of the data structure in python\n",
    "- Data structures means to store,sort and search options\n",
    "- It's one common data structure in python,the items of list seperated by comma and enclosed in square brackets []\n",
    "    - example\n",
    "        - list 1:[1,2,3,4,5]\n",
    "        - list 2:[\"gitam\",1,2,1.89,\"vizag\"]\n",
    "        "
   ]
  },
  {
   "cell_type": "code",
   "execution_count": 128,
   "metadata": {},
   "outputs": [
    {
     "name": "stdout",
     "output_type": "stream",
     "text": [
      "[1, 8, 16, 9, 2]\n",
      "1\n",
      "8\n",
      "2\n",
      "9\n",
      "[16, 9, 2]\n",
      "[8, 16, 9]\n"
     ]
    }
   ],
   "source": [
    "li=[1,8,16,9,2]\n",
    "print(li)  #will print all the list items\n",
    "print(li[0]) #Access the first item of the list\n",
    "print(li[1]) #Access the second item of the list\n",
    "print(li[-1]) #Access the last item of the list\n",
    "print(li[-2]) #Access the last second item of the list\n",
    "print(li[2:]) #Access the numbers from index 2\n",
    "print(li[1:4]) #Access numbers from index 1 to index 4"
   ]
  },
  {
   "cell_type": "code",
   "execution_count": 131,
   "metadata": {},
   "outputs": [
    {
     "name": "stdout",
     "output_type": "stream",
     "text": [
      "['Gitam', 1342, 4356, 4254, 'Vizag']\n",
      "['Gitam', 8468, 4356, 4254, 'Vizag']\n",
      "['Gitam', 8468, 4356, 'Vizag']\n"
     ]
    }
   ],
   "source": [
    "li=[\"Gitam\",1342,4356,4254,\"Vizag\"]\n",
    "print(li)\n",
    "#update the list item with value by using index\n",
    "li[1]=8468\n",
    "print(li)\n",
    "#delete the list item using index\n",
    "del li[3]\n",
    "print(li)"
   ]
  },
  {
   "cell_type": "code",
   "execution_count": 132,
   "metadata": {},
   "outputs": [
    {
     "name": "stdout",
     "output_type": "stream",
     "text": [
      "5\n",
      "[1, 2, 3, 4, 5, 1, 2, 3, 4, 5]\n",
      "True\n",
      "False\n",
      "1 2 3 4 5 \n",
      "1 2 3 4 5 "
     ]
    }
   ],
   "source": [
    "#basic list operations\n",
    "li = [1,2,3,4,5]\n",
    "#length of list\n",
    "print(len(li))\n",
    "#list repitition\n",
    "print(li*2)\n",
    "#to know certain item is present in the list or not\n",
    "print(4 in li)\n",
    "print(10 in li)\n",
    "#access the list items from the iterations\n",
    "# way 1 to define\n",
    "for i in range(len(li)):\n",
    "    print(li[i],end=' ')\n",
    "print()\n",
    "# way 2 to define\n",
    "for i in li:\n",
    "    print(i,end=' ')"
   ]
  },
  {
   "cell_type": "code",
   "execution_count": 138,
   "metadata": {},
   "outputs": [
    {
     "name": "stdout",
     "output_type": "stream",
     "text": [
      "25\n",
      "1\n",
      "56\n",
      "11\n"
     ]
    }
   ],
   "source": [
    "#basic list functions\n",
    "li=[1,9,16,25,5]\n",
    "print(max(li)) #prints maximum number of list ####possible only if all the data is of same type like all int or all string\n",
    "print(min(li)) #min number of the list\n",
    "print(sum(li)) #sum of all list items\n",
    "print(sum(li)//len(li)) #average of list items"
   ]
  },
  {
   "cell_type": "code",
   "execution_count": 152,
   "metadata": {},
   "outputs": [
    {
     "name": "stdout",
     "output_type": "stream",
     "text": [
      "[1, 9, 56, 56, 56, 56, 56, 56, 16, 25, 5, 29, 29, 29, 29, 29, 29, 29, 29, 9, 29, 9, 29, 9, 29, 9, 29, 9]\n"
     ]
    },
    {
     "data": {
      "text/plain": [
       "2"
      ]
     },
     "execution_count": 152,
     "metadata": {},
     "output_type": "execute_result"
    }
   ],
   "source": [
    "#methods of list\n",
    "print(li)\n",
    "li.append(29) #adds the new item at the end of the list\n",
    "li.insert(2,56) #add the new item at the specific index\n",
    "li.append(9)\n",
    "li.count(29) #returns how many time the value is repeated in the list\n",
    "li.index(56) #return the index of the element"
   ]
  },
  {
   "cell_type": "code",
   "execution_count": 157,
   "metadata": {},
   "outputs": [
    {
     "data": {
      "text/plain": [
       "5"
      ]
     },
     "execution_count": 157,
     "metadata": {},
     "output_type": "execute_result"
    }
   ],
   "source": [
    "#method of list object\n",
    "li.sort() #sorts the list in ascending value\n",
    "li.pop()  #removes the last value\n",
    "li.pop(1) #removes objects from the specified list"
   ]
  },
  {
   "cell_type": "code",
   "execution_count": 159,
   "metadata": {},
   "outputs": [
    {
     "data": {
      "text/plain": [
       "[1,\n",
       " 1,\n",
       " 1,\n",
       " 6,\n",
       " 6,\n",
       " 9,\n",
       " 9,\n",
       " 9,\n",
       " 9,\n",
       " 9,\n",
       " 9,\n",
       " 9,\n",
       " 9,\n",
       " 9,\n",
       " 16,\n",
       " 25,\n",
       " 25,\n",
       " 25,\n",
       " 29,\n",
       " 29,\n",
       " 29,\n",
       " 29,\n",
       " 29,\n",
       " 29,\n",
       " 29,\n",
       " 29,\n",
       " 29,\n",
       " 29,\n",
       " 29,\n",
       " 29,\n",
       " 29,\n",
       " 56,\n",
       " 56,\n",
       " 56]"
      ]
     },
     "execution_count": 159,
     "metadata": {},
     "output_type": "execute_result"
    }
   ],
   "source": [
    "lil=[1,6,9,25]\n",
    "li.extend(lil) #\n",
    "li.reverse()\n",
    "li.sort()\n",
    "li"
   ]
  },
  {
   "cell_type": "code",
   "execution_count": 168,
   "metadata": {},
   "outputs": [
    {
     "name": "stdout",
     "output_type": "stream",
     "text": [
      "45\n",
      "22\n"
     ]
    }
   ],
   "source": [
    "#function to return the large number from the list\n",
    "def largeNumber(li):\n",
    "    li.sort()\n",
    "    return li[-1]\n",
    "def genericLarge(li,n):\n",
    "    li.sort()\n",
    "    return li[-n]\n",
    "li=[19,1,25,6,9,45,22]\n",
    "print(largeNumber(li))\n",
    "print(genericLarge(li,3))"
   ]
  },
  {
   "cell_type": "code",
   "execution_count": 170,
   "metadata": {},
   "outputs": [
    {
     "name": "stdout",
     "output_type": "stream",
     "text": [
      "1\n",
      "19\n"
     ]
    }
   ],
   "source": [
    "#function to find least and generic least number from the list\n",
    "def leastNum(li):\n",
    "    li.sort()\n",
    "    return li[0]\n",
    "def genericLeastNum(li,n):\n",
    "    li.sort()\n",
    "    return li[n-1]\n",
    "li=[19,1,25,6,9,45,22]\n",
    "print(leastNum(li))\n",
    "print(genericLeastNum(li,4))"
   ]
  },
  {
   "cell_type": "markdown",
   "metadata": {},
   "source": [
    "### File handling in Python\n",
    "- File -->Document which contains some information and resides on permanent devices\n",
    "- Different types of files---> .txt, .pdf, .doc, .ppf,...etc...\n",
    "- input--->keyboard\n",
    "- output -->file system"
   ]
  },
  {
   "cell_type": "code",
   "execution_count": 203,
   "metadata": {},
   "outputs": [
    {
     "name": "stdout",
     "output_type": "stream",
     "text": [
      "file is succesfully created and data is inserted\n"
     ]
    }
   ],
   "source": [
    "#function to create a file and write some data to the file\n",
    "#mode--->w(it creates the file and writes some data to the file)\n",
    "#       If the file already exists with same name then it will rewrite the existing data\n",
    "def createFile(filename):\n",
    "    f=open(filename,'w')\n",
    "    for i in range(10):\n",
    "        f.write('this is %d line \\n' %i)\n",
    "    print('file is succesfully created and data is inserted' )\n",
    "    return\n",
    "createFile('data.txt')"
   ]
  },
  {
   "cell_type": "code",
   "execution_count": 176,
   "metadata": {},
   "outputs": [
    {
     "data": {
      "text/plain": [
       "'C:\\\\Users\\\\Pravallika Medisetti\\\\Desktop\\\\python workshop'"
      ]
     },
     "execution_count": 176,
     "metadata": {},
     "output_type": "execute_result"
    }
   ],
   "source": [
    "pwd #shows the path of the file"
   ]
  },
  {
   "cell_type": "code",
   "execution_count": 177,
   "metadata": {},
   "outputs": [
    {
     "name": "stdout",
     "output_type": "stream",
     "text": [
      "completed succesfully\n"
     ]
    }
   ],
   "source": [
    "def createFile(filename):\n",
    "    f=open(filename,'w')\n",
    "    f.write('Gitam vizag python training')\n",
    "    print('completed succesfully')\n",
    "    return\n",
    "createFile('data.txt')"
   ]
  },
  {
   "cell_type": "code",
   "execution_count": 185,
   "metadata": {},
   "outputs": [
    {
     "name": "stdout",
     "output_type": "stream",
     "text": [
      "succesful\n"
     ]
    }
   ],
   "source": [
    "#mode---> a (if the file is not available then it creates a file)\n",
    "#   --->if the file is already present with the same name\n",
    "#   --->append the data at the end of the previous line\n",
    "def appendMode(filename):\n",
    "    f=open(filename,'a')\n",
    "    f.write('gitam vizag \\n')\n",
    "    f.write('python programming \\n')\n",
    "    print('succesful')\n",
    "    return\n",
    "appendMode('data.txt')"
   ]
  },
  {
   "cell_type": "code",
   "execution_count": 190,
   "metadata": {},
   "outputs": [
    {
     "name": "stdout",
     "output_type": "stream",
     "text": [
      "this is 0 line \n",
      "this is 1 line \n",
      "this is 2 line \n",
      "this is 3 line \n",
      "this is 4 line \n",
      "this is 5 line \n",
      "this is 6 line \n",
      "this is 7 line \n",
      "this is 8 line \n",
      "this is 9 line \n",
      "gitam vizag \n",
      "python programming \n",
      "\n"
     ]
    }
   ],
   "source": [
    "#function to read the file\n",
    "def readFileData(filename):\n",
    "    f=open(filename,'r')\n",
    "    if f.mode== 'r':\n",
    "        a=f.read()\n",
    "        print(a)\n",
    "    f.close()\n",
    "    return\n",
    "readFileData('data.txt')"
   ]
  },
  {
   "cell_type": "code",
   "execution_count": 191,
   "metadata": {},
   "outputs": [
    {
     "name": "stdout",
     "output_type": "stream",
     "text": [
      "['python', 'programming']\n"
     ]
    }
   ],
   "source": [
    "#Analysis on the file--->word count,char count,digit count\n",
    "s1=\"python programming\"\n",
    "print(s1.split())"
   ]
  },
  {
   "cell_type": "code",
   "execution_count": 192,
   "metadata": {},
   "outputs": [
    {
     "data": {
      "text/plain": [
       "44"
      ]
     },
     "execution_count": 192,
     "metadata": {},
     "output_type": "execute_result"
    }
   ],
   "source": [
    "#word count--->input file\n",
    "def wordCount(filename):\n",
    "    with open(filename,'r') as f:#idomatic programming   #f=open(filename,'r')\n",
    "        if f.mode=='r':\n",
    "            a=f.read()\n",
    "            li=a.split()   #divides the words by using white space\n",
    "    return len(li)\n",
    "wordCount('data.txt')\n",
    "        "
   ]
  },
  {
   "cell_type": "code",
   "execution_count": 205,
   "metadata": {},
   "outputs": [
    {
     "data": {
      "text/plain": [
       "10"
      ]
     },
     "execution_count": 205,
     "metadata": {},
     "output_type": "execute_result"
    }
   ],
   "source": [
    "#Specific word count from the file\n",
    "\n",
    "#input --->This\n",
    "#output--->10\n",
    "\n",
    "#input--->gitam\n",
    "#output--->1\n",
    "\n",
    "def spefCount(filename,word):\n",
    "    with open(filename,'r') as f:\n",
    "        if f.mode=='r':\n",
    "            a=f.read()\n",
    "            li=a.split()\n",
    "    return li.count(word)\n",
    "spefCount('data.txt','this')\n",
    "            "
   ]
  },
  {
   "cell_type": "code",
   "execution_count": 208,
   "metadata": {},
   "outputs": [
    {
     "data": {
      "text/plain": [
       "160"
      ]
     },
     "execution_count": 208,
     "metadata": {},
     "output_type": "execute_result"
    }
   ],
   "source": [
    "#function to findchar countfrom the file\n",
    "#list('')\n",
    "def charCount(filename):\n",
    "    with open(filename,'r') as f:\n",
    "        if f.mode=='r':\n",
    "            a=f.read()\n",
    "            li=list(a)  #converts the input string into sequence of characters and finding the length of the list becomes as character count of the input file\n",
    "    return len(li)\n",
    "charCount('data.txt')"
   ]
  },
  {
   "cell_type": "code",
   "execution_count": 206,
   "metadata": {},
   "outputs": [
    {
     "name": "stdout",
     "output_type": "stream",
     "text": [
      "['P', 'y', 't', 'h', 'o', 'n', ' ', 'P', 'r', 'o', 'g', 'r', 'a', 'm', 'm', 'i', 'n', 'g']\n"
     ]
    }
   ],
   "source": [
    "s=\"Python Programming\"\n",
    "li=list(s)\n",
    "print(li)"
   ]
  },
  {
   "cell_type": "code",
   "execution_count": 211,
   "metadata": {},
   "outputs": [
    {
     "data": {
      "text/plain": [
       "11"
      ]
     },
     "execution_count": 211,
     "metadata": {},
     "output_type": "execute_result"
    }
   ],
   "source": [
    "#find number of lines or rows in the given input stream\n",
    "def findLineCount(filename):\n",
    "    with open(filename,'r') as f:\n",
    "        if f.mode == 'r':\n",
    "            a=f.read()\n",
    "            li=a.split('\\n')\n",
    "    return len(li)\n",
    "findLineCount('data.txt')"
   ]
  },
  {
   "cell_type": "code",
   "execution_count": 217,
   "metadata": {},
   "outputs": [
    {
     "data": {
      "text/plain": [
       "'upper case:0 lower case :100 digit:10'"
      ]
     },
     "execution_count": 217,
     "metadata": {},
     "output_type": "execute_result"
    }
   ],
   "source": [
    "#function to find the upper and lower case character count\n",
    "#from the input stream\n",
    "def caseCount(filename):\n",
    "    cntupper=0\n",
    "    cntlower=0\n",
    "    cntdigit=0\n",
    "    with open(filename,'r') as f:\n",
    "        if f.mode == 'r':\n",
    "            a=f.read()\n",
    "            li=list(a)\n",
    "    for i in range(len(li)):\n",
    "        if ord(li[i])>=65 and ord(li[i])<=90:\n",
    "            cntupper+=1\n",
    "        elif ord(li[i])>=97 and ord(li[i])<=122:\n",
    "            cntlower+=1\n",
    "        elif ord(li[i])>=48 and ord(li[i])<=57:\n",
    "            cntdigit+=1\n",
    "    output=\"upper case:{0} lower case :{1} digit:{2}\".format(cntupper,cntlower,cntdigit)\n",
    "    return output\n",
    "caseCount('data.txt')"
   ]
  },
  {
   "cell_type": "markdown",
   "metadata": {},
   "source": [
    "### Assignment"
   ]
  },
  {
   "cell_type": "code",
   "execution_count": 2,
   "metadata": {},
   "outputs": [
    {
     "name": "stdout",
     "output_type": "stream",
     "text": [
      "3\n"
     ]
    }
   ],
   "source": [
    "#print number of occurance of character in the given string\n",
    "def numOcc(s,c):\n",
    "        a=0\n",
    "        for i in range(len(s)):\n",
    "            if ord(s[i])==ord(c):\n",
    "                a+=1\n",
    "        print(a)\n",
    "        return\n",
    "numOcc('pravallika','a')\n",
    "            "
   ]
  },
  {
   "cell_type": "code",
   "execution_count": 3,
   "metadata": {},
   "outputs": [
    {
     "data": {
      "text/plain": [
       "16"
      ]
     },
     "execution_count": 3,
     "metadata": {},
     "output_type": "execute_result"
    }
   ],
   "source": [
    "#Read the input as string and Print the Output as Only even digit sum\n",
    "#Example #1:\n",
    "#Input : Applc18iation89\n",
    "#Output : 16 (8+8)\n",
    "def sumOfEven(str):\n",
    "    sum = 0\n",
    "    for i in range(len(str)):\n",
    "        if ord(str[i]) >= 48 and ord(str[i]) <= 57:\n",
    "            if (ord(str[i])) % 2 == 0:\n",
    "                sum = sum + int(str[i])           \n",
    "    return sum\n",
    "sumOfEven('Applc18iation89')"
   ]
  },
  {
   "cell_type": "code",
   "execution_count": 4,
   "metadata": {},
   "outputs": [
    {
     "name": "stdout",
     "output_type": "stream",
     "text": [
      "pYTHONproGRAMMIng"
     ]
    }
   ],
   "source": [
    "#Read the string as input and Print the output following the manner\n",
    "#Example #1:\n",
    "#Input: PythonProgrMMINg \n",
    "#Output: pYTHONpROGRmminG\n",
    "def wordLowerCase(s):\n",
    "    for x in range(len(s)):\n",
    "        if ord(s[x]) >= 65 and ord(s[x]) <= 90:\n",
    "                print(chr(ord(s[x])+32),end=\"\")\n",
    "        elif ord(s[x]) >= 97 and ord(s[x]) <= 122:\n",
    "                print(chr(ord(s[x])-32), end=\"\")\n",
    "       \n",
    "    return\n",
    "wordLowerCase('PythonPROgrammiNG')\n"
   ]
  },
  {
   "cell_type": "code",
   "execution_count": 5,
   "metadata": {},
   "outputs": [
    {
     "name": "stdout",
     "output_type": "stream",
     "text": [
      " python  easy"
     ]
    }
   ],
   "source": [
    "#Output will be alternate words in lower case\n",
    "\n",
    "def wordLowerCase(s):\n",
    "    spaceCnt = 0\n",
    "    for x in range(len(s)):        \n",
    "        if ord(s[x]) == 32:\n",
    "            print(end=' ')\n",
    "            spaceCnt += 1 # spaceCnt = spaceCnt + 1           \n",
    "        if spaceCnt %2!=0:\n",
    "            if ord(s[x]) >= 65 and ord(s[x]) <= 90:\n",
    "                print(chr(ord(s[x])+32),end=\"\")\n",
    "            elif ord(s[x]) >= 97 and ord(s[x]) <=122:\n",
    "                print(s[x],end=\"\")\n",
    "    return\n",
    "wordLowerCase('Learn Python Programming EASy')"
   ]
  },
  {
   "cell_type": "code",
   "execution_count": null,
   "metadata": {},
   "outputs": [],
   "source": []
  }
 ],
 "metadata": {
  "kernelspec": {
   "display_name": "Python 3",
   "language": "python",
   "name": "python3"
  },
  "language_info": {
   "codemirror_mode": {
    "name": "ipython",
    "version": 3
   },
   "file_extension": ".py",
   "mimetype": "text/x-python",
   "name": "python",
   "nbconvert_exporter": "python",
   "pygments_lexer": "ipython3",
   "version": "3.7.3"
  }
 },
 "nbformat": 4,
 "nbformat_minor": 2
}
