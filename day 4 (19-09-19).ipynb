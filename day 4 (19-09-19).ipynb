{
 "cells": [
  {
   "cell_type": "markdown",
   "metadata": {},
   "source": [
    "### String functions"
   ]
  },
  {
   "cell_type": "code",
   "execution_count": 1,
   "metadata": {},
   "outputs": [
    {
     "name": "stdout",
     "output_type": "stream",
     "text": [
      "python\n",
      "PYTHON\n"
     ]
    }
   ],
   "source": [
    "s='Python'\n",
    "print(s.lower())\n",
    "print(s.upper())"
   ]
  },
  {
   "cell_type": "markdown",
   "metadata": {},
   "source": [
    "### String boolean function\n",
    "- True or False\n",
    "- islower()--->True if the string has all characters in lower case\n",
    "- isupper()--->True if the string has all characters in upper case\n",
    "- istitle()--->true if the string is in title case\n",
    "- isnumeric()--->True if the string has all numners\n",
    "- isalpha()--->True only if string has all aplhabets\n",
    "- isspace()--->True if the string is space"
   ]
  },
  {
   "cell_type": "code",
   "execution_count": 2,
   "metadata": {},
   "outputs": [
    {
     "name": "stdout",
     "output_type": "stream",
     "text": [
      "True\n",
      "False\n"
     ]
    }
   ],
   "source": [
    "s='python'\n",
    "print(s.islower())\n",
    "print(s.isupper())"
   ]
  },
  {
   "cell_type": "code",
   "execution_count": 3,
   "metadata": {},
   "outputs": [
    {
     "name": "stdout",
     "output_type": "stream",
     "text": [
      "True\n"
     ]
    }
   ],
   "source": [
    "s=\"Python Programming\"\n",
    "print(s.istitle())"
   ]
  },
  {
   "cell_type": "code",
   "execution_count": 4,
   "metadata": {},
   "outputs": [
    {
     "name": "stdout",
     "output_type": "stream",
     "text": [
      "True\n",
      "False\n"
     ]
    }
   ],
   "source": [
    "s1=\"123456\"\n",
    "s2=\"MP15\"\n",
    "print(s1.isnumeric())\n",
    "print(s2.isnumeric())\n"
   ]
  },
  {
   "cell_type": "code",
   "execution_count": 6,
   "metadata": {},
   "outputs": [
    {
     "name": "stdout",
     "output_type": "stream",
     "text": [
      "True\n",
      "False\n"
     ]
    }
   ],
   "source": [
    "s1=\"puzzle\"\n",
    "s2=\"MP15\"\n",
    "print(s1.isalpha())\n",
    "print(s2.isalpha())"
   ]
  },
  {
   "cell_type": "code",
   "execution_count": 9,
   "metadata": {},
   "outputs": [
    {
     "name": "stdout",
     "output_type": "stream",
     "text": [
      "False\n",
      "True\n"
     ]
    }
   ],
   "source": [
    "s1=\"puzzle\"\n",
    "s2=\"   \"\n",
    "print(s1.isspace())\n",
    "print(s2.isspace())"
   ]
  },
  {
   "cell_type": "markdown",
   "metadata": {},
   "source": [
    "### String methods\n",
    "- split()--->returns the list of strings seperated by white space\n",
    "- replace()--->returns string replaced by word or character\n",
    "- join()--->concatination of two strings"
   ]
  },
  {
   "cell_type": "code",
   "execution_count": 13,
   "metadata": {},
   "outputs": [
    {
     "name": "stdout",
     "output_type": "stream",
     "text": [
      "['python', 'programming', 'made', 'easy']\n",
      "['python progr', 'mming m', 'de e', 'sy']\n"
     ]
    }
   ],
   "source": [
    "s=\"python programming made easy\"\n",
    "li=s.split()#default is white space\n",
    "print(li)\n",
    "li=s.split('a')\n",
    "print(li)"
   ]
  },
  {
   "cell_type": "code",
   "execution_count": 15,
   "metadata": {},
   "outputs": [
    {
     "name": "stdout",
     "output_type": "stream",
     "text": [
      "python@programming@made@easy\n"
     ]
    }
   ],
   "source": [
    "s=\"python programming made easy\"\n",
    "li=s.replace(' ','@')\n",
    "print(li)"
   ]
  },
  {
   "cell_type": "code",
   "execution_count": 16,
   "metadata": {},
   "outputs": [
    {
     "name": "stdout",
     "output_type": "stream",
     "text": [
      "p y t h o n\n"
     ]
    }
   ],
   "source": [
    "s=\"python\"\n",
    "print(\" \".join(s))"
   ]
  },
  {
   "cell_type": "markdown",
   "metadata": {},
   "source": [
    "### String Formatting\n",
    "- Classic version (C or C++)\n",
    "- Current version (Python)"
   ]
  },
  {
   "cell_type": "code",
   "execution_count": 17,
   "metadata": {},
   "outputs": [
    {
     "name": "stdout",
     "output_type": "stream",
     "text": [
      "Python Programming\n"
     ]
    }
   ],
   "source": [
    "#Classic version(C orC++)\n",
    "li=[\"Python\",\"Programming\"]\n",
    "print('%s %s' %(li[0],li[1]))"
   ]
  },
  {
   "cell_type": "code",
   "execution_count": 18,
   "metadata": {},
   "outputs": [
    {
     "name": "stdout",
     "output_type": "stream",
     "text": [
      "1 2 3 4\n"
     ]
    }
   ],
   "source": [
    "li=[1,2,3,4]\n",
    "print('%d %d %d %d' %(li[0],li[1],li[2],li[3]))"
   ]
  },
  {
   "cell_type": "code",
   "execution_count": 23,
   "metadata": {},
   "outputs": [
    {
     "name": "stdout",
     "output_type": "stream",
     "text": [
      "list item 0 : Python \n",
      "list item 1 : Programming\n"
     ]
    }
   ],
   "source": [
    "# .format\n",
    "li=[\"Python\",\"Programming\"]\n",
    "print(\"list item 0 : {0} \\nlist item 1 : {1}\".format(li[0],li[1]))"
   ]
  },
  {
   "cell_type": "markdown",
   "metadata": {},
   "source": [
    "### Data Structures\n",
    "- List\n",
    "- Tuples\n",
    "- Dictionaries\n",
    "- Sets"
   ]
  },
  {
   "cell_type": "markdown",
   "metadata": {},
   "source": [
    "### Dictionaries\n",
    "- It works on the concept of unique data\n",
    "- It always works with {key,Value} (unique identifier)\n",
    "- Each key is seperated from value by colon(:)\n",
    "- Each set of key and value is seperated by comma(,)\n",
    "- Dictionaries are enclosed in curly braces({})"
   ]
  },
  {
   "cell_type": "code",
   "execution_count": 62,
   "metadata": {},
   "outputs": [
    {
     "name": "stdout",
     "output_type": "stream",
     "text": [
      "{'Name': 'Gitam', 'Email id': 'gitamvizag@gmail.com', 'Address': 'Vizag'}\n"
     ]
    }
   ],
   "source": [
    "d1={\"Name\":\"Gitam\",\"Email id\":\"gitamvizag@gmail.com\",\"Address\":\"Vizag\"}\n",
    "print(d1)"
   ]
  },
  {
   "cell_type": "code",
   "execution_count": 63,
   "metadata": {},
   "outputs": [
    {
     "data": {
      "text/plain": [
       "'gitamvizag@gmail.com'"
      ]
     },
     "execution_count": 63,
     "metadata": {},
     "output_type": "execute_result"
    }
   ],
   "source": [
    "d1[\"Email id\"]  #Access the specific key value"
   ]
  },
  {
   "cell_type": "code",
   "execution_count": 64,
   "metadata": {},
   "outputs": [
    {
     "name": "stdout",
     "output_type": "stream",
     "text": [
      "{'Name': 'Gitam', 'Email id': 'gitam@hotmail.com', 'Address': 'Vizag'}\n"
     ]
    }
   ],
   "source": [
    "d1[\"Email id\"]=\"gitam@hotmail.com\"  #update  the value using key\n",
    "print(d1)"
   ]
  },
  {
   "cell_type": "code",
   "execution_count": 65,
   "metadata": {},
   "outputs": [
    {
     "name": "stdout",
     "output_type": "stream",
     "text": [
      "dict_keys(['Name', 'Email id', 'Address'])\n"
     ]
    }
   ],
   "source": [
    "li=d1.keys()   #returns all the keys of dictionary object\n",
    "print(li)"
   ]
  },
  {
   "cell_type": "code",
   "execution_count": 66,
   "metadata": {},
   "outputs": [
    {
     "data": {
      "text/plain": [
       "dict_values(['Gitam', 'gitam@hotmail.com', 'Vizag'])"
      ]
     },
     "execution_count": 66,
     "metadata": {},
     "output_type": "execute_result"
    }
   ],
   "source": [
    "d1.values()  #returns all the values of dictionary object"
   ]
  },
  {
   "cell_type": "code",
   "execution_count": 69,
   "metadata": {},
   "outputs": [],
   "source": [
    "del d1[\"Email id\"] #deletes only one key and value"
   ]
  },
  {
   "cell_type": "code",
   "execution_count": 70,
   "metadata": {},
   "outputs": [
    {
     "data": {
      "text/plain": [
       "{'Name': 'Gitam', 'Address': 'Vizag'}"
      ]
     },
     "execution_count": 70,
     "metadata": {},
     "output_type": "execute_result"
    }
   ],
   "source": [
    "d1"
   ]
  },
  {
   "cell_type": "code",
   "execution_count": null,
   "metadata": {},
   "outputs": [],
   "source": []
  },
  {
   "cell_type": "markdown",
   "metadata": {},
   "source": [
    "### Contact application\n",
    "- Add contact details\n",
    "- Search the contact details\n",
    "- List all the contact details(merge/import)\n",
    "        - name 1: value\n",
    "        - name 2: value\n",
    "- Modify or update the contact details\n",
    "- Delete the contact details"
   ]
  },
  {
   "cell_type": "code",
   "execution_count": 73,
   "metadata": {},
   "outputs": [
    {
     "name": "stdout",
     "output_type": "stream",
     "text": [
      "contact details are added succesfully\n",
      "contact details are added succesfully\n",
      "contact details are added succesfully\n",
      "name already exists\n"
     ]
    }
   ],
   "source": [
    "contacts={} #empty dict object\n",
    "#lets create a function to add contact details\n",
    "def addContact(name,phone):\n",
    "    if name not in contacts: #condition to check name exists or noy\n",
    "        contacts[name]=phone\n",
    "        print(\"contact details are added succesfully\")\n",
    "    else:\n",
    "        print(\"name already exists\")\n",
    "    return\n",
    "addContact('pravallika','8179353338')\n",
    "addContact('dad','9704267019')\n",
    "addContact('akka','9154148666')\n",
    "addContact('pravallika','9182892202') "
   ]
  },
  {
   "cell_type": "code",
   "execution_count": 79,
   "metadata": {},
   "outputs": [
    {
     "name": "stdout",
     "output_type": "stream",
     "text": [
      "pravallika  :  8179353338\n",
      "boiler does not present\n"
     ]
    }
   ],
   "source": [
    "def searchContact(name):\n",
    "    if name in contacts:\n",
    "        print(name,\" : \",contacts[name])\n",
    "    else:\n",
    "        print('%s does not present' %name)\n",
    "        #print('{0} does not present'.format(name))\n",
    "    return\n",
    "searchContact('pravallika')\n",
    "searchContact('boiler')"
   ]
  },
  {
   "cell_type": "code",
   "execution_count": 83,
   "metadata": {},
   "outputs": [
    {
     "name": "stdout",
     "output_type": "stream",
     "text": [
      "3 contacts are added\n"
     ]
    }
   ],
   "source": [
    "#import new contact details\n",
    "#merge the previous details with new details\n",
    "def importContact(newContacts):\n",
    "    contacts.update(newContacts)\n",
    "    print(len(newContacts.keys()),'contacts are added')\n",
    "    return\n",
    "newContacts={'Gitam':36281937345,\"Anil\":986467824357843,\"Python\":72436788671}\n",
    "importContact(newContacts)"
   ]
  },
  {
   "cell_type": "code",
   "execution_count": 82,
   "metadata": {},
   "outputs": [
    {
     "data": {
      "text/plain": [
       "{'pravallika': '8179353338',\n",
       " 'dad': '9704267019',\n",
       " 'akka': '9154148666',\n",
       " 'Gitam': 36281937345,\n",
       " 'Anil': 986467824357843,\n",
       " 'Python': 72436788671}"
      ]
     },
     "execution_count": 82,
     "metadata": {},
     "output_type": "execute_result"
    }
   ],
   "source": [
    "contacts"
   ]
  },
  {
   "cell_type": "code",
   "execution_count": 84,
   "metadata": {},
   "outputs": [
    {
     "name": "stdout",
     "output_type": "stream",
     "text": [
      "Anil Update succesfully\n",
      "boiler not exits\n"
     ]
    }
   ],
   "source": [
    "def modifyContact(name,phone):\n",
    "    if name in contacts:\n",
    "        contacts[name]=phone\n",
    "        print(name,'Update succesfully')\n",
    "    else:\n",
    "        print(name,'not exits')\n",
    "    return\n",
    "modifyContact('Anil',7362548563)\n",
    "modifyContact('boiler',783576873)"
   ]
  },
  {
   "cell_type": "code",
   "execution_count": 87,
   "metadata": {},
   "outputs": [
    {
     "name": "stdout",
     "output_type": "stream",
     "text": [
      "gitam contact not present\n",
      "kumar contact not present\n"
     ]
    }
   ],
   "source": [
    "def deleteContact(name):\n",
    "    if name in contacts:\n",
    "        del contacts[name]\n",
    "        print(name,'deleted succesfully')\n",
    "    else:\n",
    "        print(name,\"contact not present\")\n",
    "    return\n",
    "deleteContact('gitam')\n",
    "deleteContact('kumar')"
   ]
  },
  {
   "cell_type": "code",
   "execution_count": 88,
   "metadata": {},
   "outputs": [
    {
     "data": {
      "text/plain": [
       "{'pravallika': '8179353338',\n",
       " 'akka': '9154148666',\n",
       " 'Gitam': 36281937345,\n",
       " 'Anil': 7362548563,\n",
       " 'Python': 72436788671}"
      ]
     },
     "execution_count": 88,
     "metadata": {},
     "output_type": "execute_result"
    }
   ],
   "source": [
    "contacts"
   ]
  },
  {
   "cell_type": "markdown",
   "metadata": {},
   "source": [
    "### Tuples\n",
    "- tuples enclosed with paranthesis()\n",
    "### Difference between tuple and list\n",
    "- list are mutable--->can be changed/modify\n",
    "        -read and write the data\n",
    "- tuples are immutable--->cant be changes/modified\n",
    "        - read data only"
   ]
  },
  {
   "cell_type": "code",
   "execution_count": 89,
   "metadata": {},
   "outputs": [
    {
     "name": "stdout",
     "output_type": "stream",
     "text": [
      "(1, 2, 3, 4, 5)\n"
     ]
    }
   ],
   "source": [
    "t1=(1,2,3,4,5)\n",
    "print(t1)"
   ]
  },
  {
   "cell_type": "code",
   "execution_count": 90,
   "metadata": {},
   "outputs": [
    {
     "name": "stdout",
     "output_type": "stream",
     "text": [
      "(2, 1)\n"
     ]
    }
   ],
   "source": [
    "print(t1[1::-1])"
   ]
  },
  {
   "cell_type": "markdown",
   "metadata": {},
   "source": [
    "### Standard libraries\n",
    "- Regular Expressions\n",
    "        - To validate Indian mobile number\n",
    "        - To validate the email id\n",
    "        - To validate the username\n",
    "        - To validate the password\n",
    "- Understanding the Regular Expressions\n",
    "        - [0-9]--->any digit Matching\n",
    "        - [a-z]--->any lowercase match\n",
    "        - [A-Z]--->any uppercase matching\n",
    "        -cap symbol is used to represent the start of regular expression\n",
    "        - Dollar symbol is used to represent the end of regular expression"
   ]
  },
  {
   "cell_type": "code",
   "execution_count": 93,
   "metadata": {},
   "outputs": [
    {
     "name": "stdout",
     "output_type": "stream",
     "text": [
      "True\n",
      "False\n"
     ]
    }
   ],
   "source": [
    "#function to test the two digit number as input\n",
    "#True--->Input 2 digit numbeer\n",
    "#False--->Input not a 2 digit number\n",
    "import re\n",
    "def twoDigMat(n):\n",
    "    pattern='^[0-9]{2}$'  #accepts only  digits\n",
    "    n=str(n)   #converts input into string format\n",
    "    if re.match(pattern,n):\n",
    "        return True\n",
    "    return False\n",
    "print(twoDigMat(12))   #True\n",
    "print(twoDigMat(123))   #False"
   ]
  },
  {
   "cell_type": "code",
   "execution_count": 96,
   "metadata": {},
   "outputs": [
    {
     "name": "stdout",
     "output_type": "stream",
     "text": [
      "True\n",
      "False\n",
      "False\n"
     ]
    }
   ],
   "source": [
    "#Regular expression for user namr\n",
    "#username--->should contain lower and upper case characters\n",
    "#length--->Min 5 to max 12 characters\n",
    "def validateUsername(s):\n",
    "    pattern='^[a-zA-Z]{5,12}$'\n",
    "    if re.match(pattern,s):\n",
    "        return True\n",
    "    return False\n",
    "print(validateUsername('Pravallika'))  #true\n",
    "print(validateUsername('Pravallika Medisetti'))  #False\n",
    "print(validateUsername('MP')) #False  "
   ]
  },
  {
   "cell_type": "markdown",
   "metadata": {},
   "source": [
    "### Regular expression \n",
    "# problem 1\n",
    "- Regular Expression for roll number\n",
    "    - example:1521A0501 #valid\n",
    "    - example:1621A0574 #not valid\n",
    "# problem 2\n",
    "- Regular expression for password\n",
    "    - parameters:len Min 6 and Max 10\n",
    "    - Accept lower case,Uooercase,Digits and spl(@,!,#)\n",
    "    - Example:pass123@21      #valid\n",
    "    - Example:Pass12*21       #not valid "
   ]
  },
  {
   "cell_type": "markdown",
   "metadata": {},
   "source": [
    "### Regular expression for Indian mobile number\n",
    "- 10 digit number\n",
    "        - First digit starts from [6-9]\n",
    "        - rest of 9 numbers is between [0-9]\n",
    "                -Example:9848022338 #True\n",
    "                -example:2876543916 #False\n",
    "- 11 digit number \n",
    "        -First number can be 0\n",
    "        - second number can be [6-9]\n",
    "        - Rest of 9 numbers between [0-9]\n",
    "            -Example:099876543210   #true\n",
    "               -Example:91234567890  #False\n",
    "- 13 digit number\n",
    "        - First digit can be+\n",
    "        - second number is 9\n",
    "        - third number is 1\n",
    "        - fourth number [6-9]\n",
    "        - rest of  numbers [0-9]\n",
    "            -Example:+919848022338 #True\n",
    "            -Example:+808765432578  #False"
   ]
  },
  {
   "cell_type": "code",
   "execution_count": 101,
   "metadata": {},
   "outputs": [
    {
     "data": {
      "text/plain": [
       "True"
      ]
     },
     "execution_count": 101,
     "metadata": {},
     "output_type": "execute_result"
    }
   ],
   "source": [
    "import re\n",
    "def validateIndianPhone(n):\n",
    "    pattern = '^[6-9][0-9]{9}$|^[0][6-9][0-9]{9}$|^[+][9][1][6-9][0-9]{9}$'\n",
    "                #dig1#next9dig  #dig1#dig2#next9dig #dig1#dig2#dig3#dig4#next9dig\n",
    "    n=str(n)\n",
    "    if re.match(pattern,n):\n",
    "        return True\n",
    "    return False\n",
    "validateIndianPhone('+919848022338')   "
   ]
  },
  {
   "cell_type": "markdown",
   "metadata": {},
   "source": [
    "### Validate the Emailid\n",
    "- example : Username@DomainNmae.Extension\n",
    "- example : dsps@gmail.com\n",
    "\n",
    "-Username:\n",
    "    - len of string will be[6-15]\n",
    "    - no spl characters except underscore( _ ) and dot(.)\n",
    "    - username should not begins with underscore( _ )\n",
    "    -All characters set Digits,lower case and Upper case\n",
    "         - Example :Anil_1889\n",
    "-DomainName\n",
    "    - len of string will be [3-8]\n",
    "    - no spls characters\n",
    "    - characters set will be Didits lower case and upper case\n",
    "        -Example : gmail,hotmail,ymail,rediff and etc.....\n",
    "-Extensions:\n",
    "    -len of string will be [2-4]\n",
    "    - no spl characters allowed\n",
    "    -Characters set will be lower case characters\n",
    "    - Example: .com  .in   .au   .uk\n"
   ]
  },
  {
   "cell_type": "code",
   "execution_count": 103,
   "metadata": {},
   "outputs": [
    {
     "data": {
      "text/plain": [
       "True"
      ]
     },
     "execution_count": 103,
     "metadata": {},
     "output_type": "execute_result"
    }
   ],
   "source": [
    "#username RE : ^[0-9a-zA-Z][0-9a-zA-Z_.]{5,14}$\n",
    "\n",
    "#domain name RE : ^[a-z0-9]{3,18}$\n",
    "\n",
    "#extension RE :  ^[a-z]{2,4}$\n",
    "\n",
    "#Email id RE: ^[0-9a-zA-Z][0-9a-zA-Z_.]{5,14}[@][a-z0-9]{3,18}[.][a-z]{2,4}$\n",
    "\n",
    "import re\n",
    "def validateEmail(email):\n",
    "    pattern='^[0-9a-zA-Z][0-9a-zA-Z_.]{5,14}[@][a-z0-9]{3,18}[.][a-z]{2,4}$'\n",
    "    if re.match(pattern,email):\n",
    "        return True\n",
    "    return False\n",
    "validateEmail('pravallika61@gmail.com')"
   ]
  },
  {
   "cell_type": "markdown",
   "metadata": {},
   "source": [
    "### Python graphics\n",
    "- library--->turtle"
   ]
  },
  {
   "cell_type": "code",
   "execution_count": 104,
   "metadata": {},
   "outputs": [],
   "source": [
    "#turtle 1(line forward)\n",
    "#import the package turtle\n",
    "#All the commands will be available in this file\n",
    "import turtle\n",
    "#create a new turtle\n",
    "a1=turtle.Turtle()\n",
    "#draw a line\n",
    "a1.forward(100)\n",
    "#close windoe---done()\n",
    "turtle.done()"
   ]
  },
  {
   "cell_type": "markdown",
   "metadata": {},
   "source": [
    "# Package,Module and Subpackage\n",
    "### Paackage\n",
    "        - A collection of modules(single python file .py)\n",
    "### Module\n",
    "        - A single python file contains group of functions\n",
    " \n",
    " \n",
    " ### Package-->Subpackage-->Modules-->Functions--->Statements\n",
    " \n",
    "        - import keyword is used to import the external lib packages into python program"
   ]
  },
  {
   "cell_type": "code",
   "execution_count": 105,
   "metadata": {},
   "outputs": [
    {
     "data": {
      "text/plain": [
       "123"
      ]
     },
     "execution_count": 105,
     "metadata": {},
     "output_type": "execute_result"
    }
   ],
   "source": [
    "import math   #imports all the functions into python programming\n",
    "math.floor(123.456)"
   ]
  },
  {
   "cell_type": "code",
   "execution_count": 106,
   "metadata": {},
   "outputs": [
    {
     "data": {
      "text/plain": [
       "124"
      ]
     },
     "execution_count": 106,
     "metadata": {},
     "output_type": "execute_result"
    }
   ],
   "source": [
    "math.ceil(123.456)"
   ]
  },
  {
   "cell_type": "code",
   "execution_count": 107,
   "metadata": {},
   "outputs": [
    {
     "data": {
      "text/plain": [
       "3628800"
      ]
     },
     "execution_count": 107,
     "metadata": {},
     "output_type": "execute_result"
    }
   ],
   "source": [
    "from math import factorial as fact  #imports only fact function from math library\n",
    "fact(10)"
   ]
  },
  {
   "cell_type": "code",
   "execution_count": 108,
   "metadata": {},
   "outputs": [
    {
     "data": {
      "text/plain": [
       "5"
      ]
     },
     "execution_count": 108,
     "metadata": {},
     "output_type": "execute_result"
    }
   ],
   "source": [
    "from math import gcd as gcd\n",
    "gcd(10,15)"
   ]
  },
  {
   "cell_type": "code",
   "execution_count": 130,
   "metadata": {},
   "outputs": [
    {
     "name": "stdout",
     "output_type": "stream",
     "text": [
      "0 23 6 19 83 99 98 55 27 1 "
     ]
    }
   ],
   "source": [
    "#import random package\n",
    "import random\n",
    "#function to generate the N numbers in given range\n",
    "def generateRannum(n,lb,ub):\n",
    "    for i in range(0,n):\n",
    "        print(random.randint(lb,ub),end=\" \")\n",
    "    return\n",
    "generateRannum(10,0,100)"
   ]
  },
  {
   "cell_type": "code",
   "execution_count": 161,
   "metadata": {},
   "outputs": [
    {
     "name": "stdout",
     "output_type": "stream",
     "text": [
      "try again\n"
     ]
    }
   ],
   "source": [
    "#create a simple game\n",
    "#try to generate 20 numbers\n",
    "#input: number\n",
    "#present:congrats\n",
    "#not present: try again\n",
    "\n",
    "from random import randint as rdint\n",
    "def genNum(n,lb,ub):\n",
    "    li=[]\n",
    "    for i in range(0,n):\n",
    "        li.append(rdint(lb,ub))\n",
    "    return li\n",
    "def check(n):\n",
    "    li=genNum(10,100,999)\n",
    "    if n in li:\n",
    "        print('congrats!!!')\n",
    "    else:\n",
    "        print('try again')\n",
    "    return\n",
    "check(100)"
   ]
  },
  {
   "cell_type": "code",
   "execution_count": null,
   "metadata": {},
   "outputs": [],
   "source": [
    "#turtle 1(line forward)\n",
    "#import the package turtle\n",
    "#All the commands will be available in this file\n",
    "import turtle\n",
    "#create a new turtle\n",
    "a1=turtle.Turtle()\n",
    "#position\n",
    "a1.goto(-100,0)\n",
    "#draw a line\n",
    "a1.forward(100)\n",
    "#close windoe---done()\n",
    "turtle.done()\n"
   ]
  },
  {
   "cell_type": "code",
   "execution_count": null,
   "metadata": {},
   "outputs": [],
   "source": [
    "#turtle 3(square)\n",
    "import turtle as tt\n",
    "a1=tt.Turtle()\n",
    "a1.forward(150)\n",
    "a1.right(90)\n",
    "a1.forward(150)\n",
    "a1.right(90)\n",
    "a1.forward(150)\n",
    "a1.right(90)\n",
    "a1.forward(150)\n",
    "a1.right(90)\n",
    "tt.done()\n"
   ]
  },
  {
   "cell_type": "code",
   "execution_count": null,
   "metadata": {},
   "outputs": [],
   "source": [
    "#turtle 2(arrow rev)\n",
    "import turtle as tt\n",
    "a1=tt.Turtle()\n",
    "a1.backward(150)\n",
    "tt.done()"
   ]
  },
  {
   "cell_type": "code",
   "execution_count": null,
   "metadata": {},
   "outputs": [],
   "source": [
    "#turtle 3.1 (square)\n",
    "import turtle as tt\n",
    "aa=tt.Turtle()\n",
    "for i in range(4):\n",
    "    aa.forward(150)\n",
    "    aa.right(90)\n",
    "tt.done()\n"
   ]
  },
  {
   "cell_type": "code",
   "execution_count": null,
   "metadata": {},
   "outputs": [],
   "source": [
    "#turtle 4 (star)\n",
    "import turtle as t\n",
    "a1=t.Turtle()\n",
    "for i in range(40):\n",
    "    a1.forward(50)\n",
    "    a1.right(144)\n",
    "t.done()\n"
   ]
  },
  {
   "cell_type": "code",
   "execution_count": null,
   "metadata": {},
   "outputs": [],
   "source": [
    "#Regular Expression for Password\n",
    "#Parameters - Len Min 6 Max 10\n",
    "#Accept Lower case, upper case ,Digits and Spl (@,!,#)\n",
    "#Example : Pass123@21 # Valid\n",
    "#Example : Pass12*21 # Not Valid\n",
    "\n",
    "import re\n",
    "def validatePwd(n):\n",
    "    pattern = '^[6-9][0-9]{9}$|^[0][6-9][0-9]{9}$|^[+][9][1][6-9][0-9]{9}$'\n",
    "                #dig1#next9dig  #dig1#dig2#next9dig #dig1#dig2#dig3#dig4#next9dig\n",
    "    n=str(n)\n",
    "    if re.match(pattern,n):\n",
    "        return True\n",
    "    return False\n",
    "validateIndianPhone('+919848022338')   "
   ]
  },
  {
   "cell_type": "markdown",
   "metadata": {},
   "source": [
    "### Assignment"
   ]
  },
  {
   "cell_type": "code",
   "execution_count": 4,
   "metadata": {},
   "outputs": [
    {
     "name": "stdout",
     "output_type": "stream",
     "text": [
      "True\n",
      "False\n"
     ]
    }
   ],
   "source": [
    "#Regular Expression for Password\n",
    "#Parameters - Len Min 6 Max 10\n",
    "#Accept Lower case, upper case ,Digits and Spl (@,!,#)\n",
    "#Example : Pass123@21 # Valid\n",
    "#Example : Pass12*21 # Not Valid\n",
    "#Min 10 function from Math Package \n",
    "import re\n",
    "def validatePwd(s):\n",
    "    pattern='^[0-9a-zA-Z@!#]{6,10}$'\n",
    "    if re.match(pattern,s):\n",
    "        return True\n",
    "    return False\n",
    "print(validatePwd('Pass123@21'))  #true\n",
    "print(validatePwd('Pass12*21'))  #False "
   ]
  },
  {
   "cell_type": "code",
   "execution_count": 8,
   "metadata": {},
   "outputs": [
    {
     "name": "stdout",
     "output_type": "stream",
     "text": [
      "True\n",
      "False\n"
     ]
    }
   ],
   "source": [
    "#Regular Expression for RollNumber\n",
    "#Example : 1521A0501 # Valid\n",
    "#Example : 1621A0574 # Not Valid\n",
    "import re\n",
    "def validateRollNum(s):\n",
    "    pattern='^[1][5][0-9]{2}[A][0-9]{4}$'\n",
    "    if re.match(pattern,s):\n",
    "        return True\n",
    "    return False\n",
    "print(validateRollNum('1521A0501'))  #true\n",
    "print(validateRollNum('1621A0574'))  #False "
   ]
  },
  {
   "cell_type": "code",
   "execution_count": 26,
   "metadata": {},
   "outputs": [
    {
     "name": "stdout",
     "output_type": "stream",
     "text": [
      "-2.0\n",
      "2.5\n",
      "3.141592653589793\n",
      "1.0\n",
      "0.7853981633974483\n",
      "9.219544457292887\n",
      "32.0\n",
      "False\n",
      "9\n",
      "1.0\n"
     ]
    }
   ],
   "source": [
    "#Min 10 function from Math Package \n",
    "import math\n",
    "print(math.copysign(2.0,-0.9)) #Return a float with the magnitude (absolute value) of x but the sign of y\n",
    "print(math.fabs(2.5))  #Return the absolute value of x\n",
    "print(math.pi)   #returns pi value\n",
    "print(math.tanh(90))  #returns hyperbolic tangent value\n",
    "print(math.radians(45)) #Convert degrees to radians.\n",
    "print(math.hypot(7, 6))  #gives hypotenues i.e,sqrt[x*x+y*y]\n",
    "print(math.pow(2, 5))   #returns x power y\n",
    "print(math.isnan(25))  #Returns False if the given parameter is any number else True(if alphabets)\n",
    "print(math.trunc(9.2))  #works as floor\n",
    "print(math.log2(2))  #returns base2 logarithm of x"
   ]
  },
  {
   "cell_type": "code",
   "execution_count": null,
   "metadata": {},
   "outputs": [],
   "source": [
    "#Draw square by using backward and left method -- Turtle\n",
    "import turtle as tt\n",
    "a1=tt.Turtle()\n",
    "a1.backward(150)\n",
    "a1.left(90)\n",
    "a1.backward(150)\n",
    "a1.left(90)\n",
    "a1.backward(150)\n",
    "a1.left(90)\n",
    "a1.backward(150)\n",
    "a1.left(90)\n",
    "tt.done()"
   ]
  },
  {
   "cell_type": "code",
   "execution_count": 10,
   "metadata": {},
   "outputs": [
    {
     "name": "stdout",
     "output_type": "stream",
     "text": [
      "5393 "
     ]
    }
   ],
   "source": [
    "#Generate the one 4 Digit between two limits\n",
    "#1000,9999 --- 1889\n",
    "import random\n",
    "def generateRannum(n,lb,ub):\n",
    "    for i in range(0,n):\n",
    "        print(random.randint(lb,ub),end=\" \")\n",
    "    return\n",
    "generateRannum(1,1000,9999)"
   ]
  },
  {
   "cell_type": "code",
   "execution_count": null,
   "metadata": {},
   "outputs": [],
   "source": []
  }
 ],
 "metadata": {
  "kernelspec": {
   "display_name": "Python 3",
   "language": "python",
   "name": "python3"
  },
  "language_info": {
   "codemirror_mode": {
    "name": "ipython",
    "version": 3
   },
   "file_extension": ".py",
   "mimetype": "text/x-python",
   "name": "python",
   "nbconvert_exporter": "python",
   "pygments_lexer": "ipython3",
   "version": "3.7.3"
  }
 },
 "nbformat": 4,
 "nbformat_minor": 2
}
